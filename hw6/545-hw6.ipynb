{
 "cells": [
  {
   "cell_type": "code",
   "execution_count": 2,
   "metadata": {
    "collapsed": true
   },
   "outputs": [],
   "source": [
    "import scipy.io as sio\n",
    "import numpy as np\n",
    "import copy"
   ]
  },
  {
   "cell_type": "code",
   "execution_count": 13,
   "metadata": {},
   "outputs": [],
   "source": [
    "bodyfat = sio.loadmat('bodyfat_data.mat')\n",
    "X = bodyfat['X']\n",
    "y = bodyfat['y']\n",
    "\n",
    "x_train = X[:150,]\n",
    "x_test = X[150:X.shape[0],]\n",
    "y_train = y[:150,]\n",
    "y_test = y[150:y.shape[0],]\n",
    "np.random.seed(0)"
   ]
  },
  {
   "cell_type": "code",
   "execution_count": 14,
   "metadata": {
    "collapsed": true
   },
   "outputs": [],
   "source": [
    "# Create the model architecture\n",
    "input_dim = 2\n",
    "nodes_hidden_1 = 64\n",
    "nodes_hidden_2 = 16\n",
    "output_dim = 1"
   ]
  },
  {
   "cell_type": "code",
   "execution_count": 5,
   "metadata": {
    "collapsed": true
   },
   "outputs": [],
   "source": [
    "W = {\n",
    "    'W_input_h1': np.random.randn(input_dim, nodes_hidden_1),\n",
    "    'b_input_h1': np.zeros(nodes_hidden_1),\n",
    "\n",
    "    'W_h1_h2': np.random.randn(nodes_hidden_1, nodes_hidden_2),\n",
    "    'b_h1_h2': np.zeros(nodes_hidden_2),\n",
    "\n",
    "    'W_h2_output': np.random.randn(nodes_hidden_2, output_dim),\n",
    "    'b_h2_output': np.zeros(output_dim)\n",
    "}"
   ]
  },
  {
   "cell_type": "code",
   "execution_count": 12,
   "metadata": {
    "collapsed": true
   },
   "outputs": [],
   "source": [
    "def relu(x):\n",
    "    return np.maximum(x, 0)\n",
    "\n",
    "def reluDerivative(x):\n",
    "    y = copy.deepcopy(x)\n",
    "    y[y<=0] = 0\n",
    "    y[y>0] = 1\n",
    "    return y\n",
    "\n",
    "\n",
    "def mean_square_loss(t_hat, t):\n",
    "    return np.mean(np.square(t_hat-t))\n",
    "\n",
    "def predict(W,X):\n",
    "    z_h1 = np.dot(X, W['W_input_h1']) + W['b_input_h1']\n",
    "    a_h1 = relu(z_h1)\n",
    "\n",
    "    z_h2 = np.dot(a_h1, W['W_h1_h2']) + W['b_h1_h2']\n",
    "    a_h2 = relu(z_h2)\n",
    "    prediction = np.dot(a_h2, W['W_h2_output']) + W['b_h2_output']\n",
    "    return prediction\n",
    "\n",
    "def early_stopping(n,lst1):\n",
    "    compare = []\n",
    "    for i in range(1,n+1):\n",
    "        compare.append(lst1[(-1)*i]<lst1[(-1*i)-1])\n",
    "    return compare\n",
    "    "
   ]
  },
  {
   "cell_type": "code",
   "execution_count": 15,
   "metadata": {},
   "outputs": [
    {
     "name": "stdout",
     "output_type": "stream",
     "text": [
      "(150, 1)\n",
      "(150, 16)\n",
      "(150, 64)\n",
      "(150, 1)\n",
      "(150, 16)\n",
      "(150, 64)\n",
      "(150, 1)\n",
      "(150, 16)\n",
      "(150, 64)\n",
      "(150, 1)\n",
      "(150, 16)\n",
      "(150, 64)\n",
      "(150, 1)\n",
      "(150, 16)\n",
      "(150, 64)\n",
      "(150, 1)\n",
      "(150, 16)\n",
      "(150, 64)\n"
     ]
    }
   ],
   "source": [
    "# Train using Gradient Descent\n",
    "learning_rate = 1e-07\n",
    "train_loss_lst = [1e+15,5e+14,1e+14,5e+13,1e+13,5e+12]\n",
    "test_loss_lst = [1e+15,5e+14,1e+14,5e+13,1e+13,5e+12]\n",
    "epoch=0\n",
    "\n",
    "\n",
    "while sum(early_stopping(5,test_loss_lst))>=1 or abs(test_loss_lst[-1]-test_loss_lst[-2])>1e-07:    \n",
    "    ## forward pass\n",
    "    z_h1 = np.dot(x_train, W['W_input_h1']) + W['b_input_h1']\n",
    "    a_h1 = relu(z_h1)\n",
    "\n",
    "    z_h2 = np.dot(a_h1, W['W_h1_h2']) + W['b_h1_h2']\n",
    "    a_h2 = relu(z_h2)\n",
    "    forward_output = np.dot(a_h2, W['W_h2_output']) + W['b_h2_output']\n",
    "\n",
    "    # Backward Pass\n",
    "    ## the third layer\n",
    "    delta_y = 2*(forward_output - y_train)\n",
    "    print(delta_y.shape)\n",
    "    \n",
    "    N = len(delta_y)\n",
    "    #print(N)\n",
    "    W_h2_output_grad = np.dot(a_h2.T,delta_y).reshape((nodes_hidden_2, output_dim))\n",
    "    b_h2_output_grad = np.sum(delta_y)\n",
    "\n",
    "    ## the second layer\n",
    "    delta_h2 = np.dot(delta_y,W['W_h2_output'].T)*reluDerivative(z_h2)\n",
    "    print(delta_h2.shape)\n",
    "    b_h1_h2_grad = np.sum(delta_h2, axis=0)\n",
    "    \n",
    "    W_h1_h2_grad = np.dot(a_h1.T,delta_h2)\n",
    "    \n",
    "    ## the first layer\n",
    "    delta_h1 = np.dot(delta_h2,W['W_h1_h2'].T)*reluDerivative(z_h1)\n",
    "    print(delta_h1.shape)\n",
    "    b_input_h1_grad = np.sum(delta_h1, axis=0)\n",
    "    \n",
    "    W_input_h1_grad = np.dot(x_train.T,delta_h1)\n",
    "\n",
    "    # Gradient Descent\n",
    "    W['W_h2_output'] -= (learning_rate * W_h2_output_grad)/N\n",
    "    W['b_h2_output'] -= (learning_rate * b_h2_output_grad)/N\n",
    "\n",
    "    W['W_h1_h2'] -= (learning_rate * W_h1_h2_grad)/N\n",
    "    W['b_h1_h2'] -= (learning_rate * b_h1_h2_grad)/N\n",
    "\n",
    "    W['W_input_h1'] -= (learning_rate * W_input_h1_grad)/N\n",
    "    W['b_input_h1'] -= (learning_rate * b_input_h1_grad)/N\n",
    "\n",
    "    y_predict = predict(W,x_test)\n",
    "    train_loss = mean_square_loss(forward_output, y_train)\n",
    "    test_loss = mean_square_loss(y_predict, y_test)\n",
    "    train_loss_lst.append(train_loss)\n",
    "    test_loss_lst.append(test_loss)\n",
    "    \n",
    "    epoch = epoch+1\n",
    "    #if epoch % 100 == 0:\n",
    "        #print(\"Train loss after epoch \", epoch, \" : \", train_loss,\"\\nTest loss after epoch \", epoch, \" : \", test_loss,)\n"
   ]
  },
  {
   "cell_type": "code",
   "execution_count": 16,
   "metadata": {},
   "outputs": [
    {
     "name": "stdout",
     "output_type": "stream",
     "text": [
      "('the mean squared error on the train inputs is ', 47.871719461769835)\n",
      "('the mean squared error on the test inputs is ', 55.85143849748683)\n"
     ]
    }
   ],
   "source": [
    "train_error = train_loss_lst[-1]\n",
    "print ('the mean squared error on the train inputs is ', train_error)\n",
    "\n",
    "test_error = test_loss_lst[-1]\n",
    "print ('the mean squared error on the test inputs is ', test_error)\n"
   ]
  },
  {
   "cell_type": "markdown",
   "metadata": {
    "collapsed": true
   },
   "source": [
    "## EM"
   ]
  },
  {
   "cell_type": "code",
   "execution_count": 15,
   "metadata": {
    "collapsed": true,
    "scrolled": true
   },
   "outputs": [],
   "source": [
    "import numpy as np \n",
    "import matplotlib.pyplot as plt\n",
    "np.random.seed(0) \n",
    "from scipy.stats import norm "
   ]
  },
  {
   "cell_type": "code",
   "execution_count": 72,
   "metadata": {
    "collapsed": true
   },
   "outputs": [],
   "source": [
    "def LogLikelihood(n,K,ee,y,we,be,ve):\n",
    "    ll = 0\n",
    "    for i in range(0,n):\n",
    "        tmp = 0\n",
    "        for k in range(0,K):\n",
    "            tmp += ee[k]*norm.pdf(y[i],we[k]*x[i] + be[k],np.sqrt(ve[k])) \n",
    "        ll = ll + np.log(tmp)\n",
    "    return ll"
   ]
  },
  {
   "cell_type": "code",
   "execution_count": 99,
   "metadata": {
    "collapsed": true
   },
   "outputs": [],
   "source": [
    "#E step\n",
    "def Gam(n,K,ee,y,we,be,ve):\n",
    "    gam = np.zeros([n,K])\n",
    "    for i in range(0,n):\n",
    "        denom = 0.0\n",
    "        for l in range(0,K):\n",
    "            denom += ee[l]*norm.pdf(y[i],we[l]*x[i] + be[l],np.sqrt(ve[l])) \n",
    "        for k in range(0,K):\n",
    "            gam[i,k] = ee[k]*norm.pdf(y[i],we[k]*x[i]+ be[k],np.sqrt(ve[k]))/denom\n",
    "    print gam.shape\n",
    "    return gam"
   ]
  },
  {
   "cell_type": "code",
   "execution_count": 120,
   "metadata": {
    "collapsed": true
   },
   "outputs": [],
   "source": [
    "#M step\n",
    "#1.update e\n",
    "def UpdateE(gam):\n",
    "    ee = np.mean(gam,axis=0)\n",
    "    return ee\n",
    "\n",
    "#2.update w,b,var\n",
    "def UpdateWBVar(n,K,gam,y,we,be,ve):\n",
    "    A = np.concatenate((x[:,np.newaxis], np.ones([n,1])),axis=1)\n",
    "    for k in range(0,K):\n",
    "        C = np.diag(gam[:,k])\n",
    "        yT = y[:,np.newaxis]\n",
    "        z = np.linalg.inv(A.T.dot(C).dot(A)).dot(A.T).dot(C).dot(yT)\n",
    "        #Weighted least squares\n",
    "        we[k] = z[0]\n",
    "        be[k] = z[1]\n",
    "        ve[k] = ((yT - A.dot(z)).T.dot(C).dot(yT - A.dot(z)))/np.sum(gam[:,k])\n",
    "    return we, be, ve"
   ]
  },
  {
   "cell_type": "code",
   "execution_count": 121,
   "metadata": {
    "collapsed": true
   },
   "outputs": [],
   "source": [
    "n = 200 #sample size \n",
    "K = 2 #number of lines \n",
    "e = np.array([0.7,0.3]) #mixing weights \n",
    "w = np.array([-2,1]) #slopes of lines \n",
    "b = np.array([0.5,-0.5]) #offsets of lines \n",
    "v = np.array([0.2,0.1]) #variances \n",
    "x = np.zeros([n]) \n",
    "y = np.zeros([n]) "
   ]
  },
  {
   "cell_type": "code",
   "execution_count": 122,
   "metadata": {},
   "outputs": [
    {
     "data": {
      "image/png": "[encoded data removed]",
      "text/plain": [
       "<matplotlib.figure.Figure at 0xb203dd9d0>"
      ]
     },
     "metadata": {},
     "output_type": "display_data"
    }
   ],
   "source": [
    "for i in range(0,n):\n",
    "    x[i] = np.random.rand(1) \n",
    "    if np.random.rand(1) < e[0]:\n",
    "        y[i] = w[0]*x[i] + b[0] + np.random.randn(1)*np.sqrt(v[0])\n",
    "    else:\n",
    "        y[i] = w[1]*x[i] + b[1] + np.random.randn(1)*np.sqrt(v[1])\n",
    "plt.plot(x,y,'bo') \n",
    "t = np.linspace(0, 1, num=100) \n",
    "plt.plot(t,w[0]*t+b[0],'k') \n",
    "plt.plot(t,w[1]*t+b[1],'k')\n",
    "plt.show()"
   ]
  },
  {
   "cell_type": "code",
   "execution_count": 138,
   "metadata": {
    "collapsed": true
   },
   "outputs": [],
   "source": [
    "#EM algorithm\n",
    "it = 500 #max number of iterations\n",
    "ee = np.array([0.5,0.5])\n",
    "we = np.array([1.0,-1.0])\n",
    "be = np.array([0.0,0.0])\n",
    "ve = np.array([np.var(y),np.var(y)]) \n",
    "ll = np.zeros([it])"
   ]
  },
  {
   "cell_type": "code",
   "execution_count": 139,
   "metadata": {},
   "outputs": [
    {
     "name": "stdout",
     "output_type": "stream",
     "text": [
      "number of iterations: 0\n",
      "-217.47062461435215\n",
      "(200, 2)\n",
      "number of iterations: 1\n",
      "-170.94880667909592\n",
      "(200, 2)\n",
      "number of iterations: 2\n",
      "-168.01704680269643\n",
      "(200, 2)\n",
      "number of iterations: 3\n",
      "-166.9976441291001\n",
      "(200, 2)\n",
      "number of iterations: 4\n",
      "-166.1449398920319\n",
      "(200, 2)\n",
      "number of iterations: 5\n",
      "-165.31548725335563\n",
      "(200, 2)\n",
      "number of iterations: 6\n",
      "-164.5437340981018\n",
      "(200, 2)\n",
      "number of iterations: 7\n",
      "-163.8678341535507\n",
      "(200, 2)\n",
      "number of iterations: 8\n",
      "-163.2921454488045\n",
      "(200, 2)\n",
      "number of iterations: 9\n",
      "-162.79528733297525\n",
      "(200, 2)\n",
      "number of iterations: 10\n",
      "-162.3512549854845\n",
      "(200, 2)\n",
      "number of iterations: 11\n",
      "-161.94444873877492\n",
      "(200, 2)\n",
      "number of iterations: 12\n",
      "-161.57406721229776\n",
      "(200, 2)\n",
      "number of iterations: 13\n",
      "-161.25034774127934\n",
      "(200, 2)\n",
      "number of iterations: 14\n",
      "-160.98614918328224\n",
      "(200, 2)\n",
      "number of iterations: 15\n",
      "-160.7880742692798\n",
      "(200, 2)\n",
      "number of iterations: 16\n",
      "-160.65208847694728\n",
      "(200, 2)\n",
      "number of iterations: 17\n",
      "-160.56580340589835\n",
      "(200, 2)\n",
      "number of iterations: 18\n",
      "-160.51431950981976\n",
      "(200, 2)\n",
      "number of iterations: 19\n",
      "-160.48487256545917\n",
      "(200, 2)\n",
      "number of iterations: 20\n",
      "-160.46846314850143\n",
      "(200, 2)\n",
      "number of iterations: 21\n",
      "-160.45945241339084\n",
      "(200, 2)\n",
      "number of iterations: 22\n",
      "-160.45454292024286\n",
      "(200, 2)\n",
      "number of iterations: 23\n",
      "-160.45187872633673\n",
      "(200, 2)\n",
      "number of iterations: 24\n",
      "-160.4504359812325\n",
      "(200, 2)\n",
      "number of iterations: 25\n",
      "-160.44965557020595\n",
      "(200, 2)\n",
      "number of iterations: 26\n",
      "-160.44923370749336\n",
      "(200, 2)\n",
      "number of iterations: 27\n",
      "-160.44900575927997\n",
      "(200, 2)\n",
      "number of iterations: 28\n",
      "-160.44888262620395\n",
      "(200, 2)\n",
      "number of iterations: 29\n",
      "-160.4488161263891\n"
     ]
    }
   ],
   "source": [
    "for t in range(0,it):\n",
    "    print \"number of iterations: \" + str(t) \n",
    "    ll[t] = LogLikelihood(n,K,ee,y,we,be,ve)\n",
    "    print(ll[t])\n",
    "    if t>=1:\n",
    "        if (ll[t]-ll[t-1]) < 10**(-4):\n",
    "            break\n",
    "    gam = Gam(n,K,ee,y,we,be,ve)\n",
    "    ee = UpdateE(gam)\n",
    "    #print(ee.shape)\n",
    "    we,be,ve = UpdateWBVar(n,K,gam,y,we,be,ve)\n",
    "    #print(we.shape)\n",
    "    #print(be.shape)\n",
    "    #print(we.shape)"
   ]
  },
  {
   "cell_type": "code",
   "execution_count": 142,
   "metadata": {},
   "outputs": [
    {
     "name": "stdout",
     "output_type": "stream",
     "text": [
      "[0.7 0.3] [-2  1] [ 0.5 -0.5] [0.2 0.1]\n",
      "[0.24924751 0.75075249] [ 1.31760425 -1.97142512] [-0.6610378   0.49066607] [0.06731559 0.22444164]\n"
     ]
    }
   ],
   "source": [
    "print e,w,b,v\n",
    "print ee,we,be,ve"
   ]
  },
  {
   "cell_type": "code",
   "execution_count": 140,
   "metadata": {},
   "outputs": [
    {
     "data": {
      "image/png": "[encoded data removed]",
      "text/plain": [
       "<matplotlib.figure.Figure at 0xb1dd1fa50>"
      ]
     },
     "metadata": {},
     "output_type": "display_data"
    }
   ],
   "source": [
    "plt.clf()\n",
    "plt.plot(ll[0:t])\n",
    "plt.show()"
   ]
  },
  {
   "cell_type": "code",
   "execution_count": 141,
   "metadata": {
    "collapsed": true
   },
   "outputs": [
    {
     "data": {
      "image/png": "[encoded data removed]",
      "text/plain": [
       "<matplotlib.figure.Figure at 0xb1f11c4d0>"
      ]
     },
     "metadata": {},
     "output_type": "display_data"
    }
   ],
   "source": [
    "plt.clf()\n",
    "plt.plot(x,y,'bo')\n",
    "t = np.linspace(0, 1, num=100) \n",
    "plt.plot(t,w[0]*t+b[0],'k')\n",
    "plt.plot(t,w[1]*t+b[1],'k')\n",
    "plt.plot(t,we[0]*t+be[0],'r:')\n",
    "plt.plot(t,we[1]*t+be[1],'r:')\n",
    "plt.show()"
   ]
  },
  {
   "cell_type": "code",
   "execution_count": null,
   "metadata": {
    "collapsed": true
   },
   "outputs": [],
   "source": []
  }
 ],
 "metadata": {
  "kernelspec": {
   "display_name": "Python 2",
   "language": "python",
   "name": "python2"
  },
  "language_info": {
   "codemirror_mode": {
    "name": "ipython",
    "version": 2
   },
   "file_extension": ".py",
   "mimetype": "text/x-python",
   "name": "python",
   "nbconvert_exporter": "python",
   "pygments_lexer": "ipython2",
   "version": "2.7.14"
  },
  "toc": {
   "nav_menu": {},
   "number_sections": true,
   "sideBar": true,
   "skip_h1_title": false,
   "toc_cell": false,
   "toc_position": {},
   "toc_section_display": "block",
   "toc_window_display": false
  }
 },
 "nbformat": 4,
 "nbformat_minor": 2
}
