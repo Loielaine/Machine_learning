{
 "cells": [
  {
   "cell_type": "code",
   "execution_count": 1,
   "metadata": {
    "collapsed": true
   },
   "outputs": [],
   "source": [
    "import pandas as pd\n",
    "import numpy as np\n",
    "import scipy.io\n",
    "import matplotlib.pyplot as plt"
   ]
  },
  {
   "cell_type": "code",
   "execution_count": 2,
   "metadata": {
    "collapsed": true
   },
   "outputs": [],
   "source": [
    "dir = '/Users/Loielaine/Desktop/umich-2019/EECS545/hw2/'"
   ]
  },
  {
   "cell_type": "markdown",
   "metadata": {},
   "source": [
    "## 1. KNN"
   ]
  },
  {
   "cell_type": "code",
   "execution_count": 3,
   "metadata": {
    "collapsed": true
   },
   "outputs": [],
   "source": [
    "def SplitXy(df):\n",
    "    df_encode = pd.get_dummies(df,prefix=['species'])\n",
    "    X = df_encode[['sepal_length', 'sepal_width', 'petal_length','petal_width']].values.T\n",
    "    Y = df_encode[['species_setosa', 'species_versicolor','species_virginica']].values.reshape((-1,3))\n",
    "    return X, Y\n",
    "    \n",
    "def FindKNearestNeighbors(X,Y,x,k):\n",
    "    n,c = Y.shape \n",
    "    Xnew = np.hstack((X,x.reshape((-1,1))))\n",
    "    #print(Xnew.shape)\n",
    "    y0 = np.zeros((1,c))\n",
    "    Ynew = np.vstack((Y, y0))\n",
    "    #print(Ynew.shape)\n",
    "    xx = np.dot(np.transpose(Xnew), Xnew)\n",
    "    d = np.diag(xx)\n",
    "    #print(d)\n",
    "    d_x = np.tile(d[n],n+1)\n",
    "    D = d_x - 2*xx[:,n] + d\n",
    "    index = np.argsort(D,axis=0).reshape((-1,1))\n",
    "    Y_sort = np.take_along_axis(Ynew,index,axis=0)\n",
    "    #print(Y_sort)\n",
    "    KNN = Y_sort[1:k+1,:]\n",
    "    vote = np.sum(KNN,axis=0)\n",
    "    #print(vote)\n",
    "    majority = np.argmax(vote)\n",
    "    return majority+1\n",
    "\n",
    "def ObtainMisclassificationRate(y_predicted, y_test_encode):\n",
    "    rate = float(sum(y_predicted == y_test_encode))/float(len(y_test_encode))\n",
    "    return rate"
   ]
  },
  {
   "cell_type": "code",
   "execution_count": 4,
   "metadata": {
    "collapsed": true
   },
   "outputs": [],
   "source": [
    "train = pd.read_csv(dir+'iris.train.csv')\n",
    "test = pd.read_csv(dir+'iris.test.csv')"
   ]
  },
  {
   "cell_type": "code",
   "execution_count": 5,
   "metadata": {
    "collapsed": true
   },
   "outputs": [],
   "source": [
    "X_train, Y_train = SplitXy(train)\n",
    "X_test, Y_test = SplitXy(test)"
   ]
  },
  {
   "cell_type": "code",
   "execution_count": 6,
   "metadata": {
    "collapsed": true
   },
   "outputs": [],
   "source": [
    "Y_test[:,0] = Y_test[:,0] * 1\n",
    "Y_test[:,1] = Y_test[:,1] * 2\n",
    "Y_test[:,2] = Y_test[:,2] * 3\n",
    "Y_test_encode = np.sum(Y_test, axis = 1)"
   ]
  },
  {
   "cell_type": "code",
   "execution_count": 7,
   "metadata": {
    "collapsed": true
   },
   "outputs": [],
   "source": [
    "p,n = X_test.shape\n",
    "accuracy = []\n",
    "for k in range(1,51):\n",
    "    y_predicted = []\n",
    "    for i in range(0,n):\n",
    "        majority = FindKNearestNeighbors(X_train, Y_train, X_test[:,i],k)\n",
    "        y_predicted.append(majority)\n",
    "    rate = ObtainMisclassificationRate(y_predicted, Y_test_encode)\n",
    "    accuracy.append(rate)"
   ]
  },
  {
   "cell_type": "code",
   "execution_count": 8,
   "metadata": {},
   "outputs": [
    {
     "data": {
      "image/png": "[encoded data removed]",
      "text/plain": [
       "<matplotlib.figure.Figure at 0x181fd39a58>"
      ]
     },
     "metadata": {},
     "output_type": "display_data"
    }
   ],
   "source": [
    "plt.plot(range(1,51), accuracy)\n",
    "plt.show()"
   ]
  },
  {
   "cell_type": "markdown",
   "metadata": {},
   "source": [
    "## 2. Regularized Linear Regression"
   ]
  },
  {
   "cell_type": "code",
   "execution_count": 9,
   "metadata": {
    "code_folding": [],
    "collapsed": true
   },
   "outputs": [],
   "source": [
    "def SolvePenalizedLinearRegression(X, y, c):\n",
    "    p,n = X.shape \n",
    "    X0 = np.ones((1,n))\n",
    "    Xnew = np.vstack((X0,X))\n",
    "    xy = np.dot(Xnew, y) #(p+1)*1\n",
    "    xx = np.dot(Xnew, np.transpose(Xnew))\n",
    "    identity = np.identity(p+1)\n",
    "    identity[0,0] = 0\n",
    "    mat = identity * c + xx #(p+1)*(p+1)\n",
    "    matinv = np.linalg.inv(mat) #(p+1)*(p+1)\n",
    "    w = np.dot(matinv, xy) \n",
    "    return w\n",
    "\n",
    "def CalculateMeanSquareError(X, y, w):\n",
    "    p,n = X.shape \n",
    "    X0 = np.ones((1,n))\n",
    "    Xnew = np.vstack((X0,X))\n",
    "    y_predict = np.dot(np.transpose(Xnew),w)\n",
    "    error = np.dot(np.transpose(Xnew),w) - y\n",
    "    MSE = np.mean(np.sum(error**2))/n\n",
    "    return y_predict, MSE"
   ]
  },
  {
   "cell_type": "code",
   "execution_count": 12,
   "metadata": {
    "collapsed": true
   },
   "outputs": [],
   "source": [
    "bodyfat = scipy.io.loadmat(dir+'bodyfat_data.mat')\n",
    "X = bodyfat['X'].T\n",
    "X_train = X[:,0:150]\n",
    "X_test = X[:,150:]\n",
    "y = bodyfat['y']\n",
    "y_train = y[0:150,:]\n",
    "y_test = y[150:,:]"
   ]
  },
  {
   "cell_type": "code",
   "execution_count": 13,
   "metadata": {
    "scrolled": true
   },
   "outputs": [
    {
     "name": "stdout",
     "output_type": "stream",
     "text": [
      "[[-23.35089988]\n",
      " [  0.91197543]\n",
      " [ -0.41254858]]\n"
     ]
    }
   ],
   "source": [
    "# c = 10\n",
    "w = SolvePenalizedLinearRegression(X_train, y_train, 10)\n",
    "print(w)"
   ]
  },
  {
   "cell_type": "code",
   "execution_count": 14,
   "metadata": {},
   "outputs": [
    {
     "name": "stdout",
     "output_type": "stream",
     "text": [
      "22.246171649654627\n"
     ]
    }
   ],
   "source": [
    "y_predict, MSE = CalculateMeanSquareError(X_test , y_test, w)\n",
    "print(MSE)"
   ]
  },
  {
   "cell_type": "code",
   "execution_count": 15,
   "metadata": {},
   "outputs": [
    {
     "name": "stdout",
     "output_type": "stream",
     "text": [
      "[[ 5.45773562 17.81070804 24.62023955 12.24552293 28.51135114 17.17023952\n",
      "   9.45955541 19.94955566 12.95330979 20.47509527 17.94325899 15.74349804\n",
      "  28.43320998 20.2666367  19.65203455 24.15124474 36.18286612 18.98545327\n",
      "  13.05537944 18.28193641 17.78687811 28.67646912 12.26061575 12.7557726\n",
      "  30.25070656 19.15052198 26.61144339 26.7438958  15.10079596 16.16264872\n",
      "  19.69328941 12.51042773 31.44272889 23.89716276 24.02524661 26.40725483\n",
      "  12.07608567 33.97024589 20.09724872 26.92197161 14.90325877 23.24353931\n",
      "  15.39181352 16.78588942  6.94087406 19.59121977 17.07248915 14.82943688\n",
      "  27.14989155 15.57862643 36.33914845 22.39237867 20.98747994 27.07602039\n",
      "  15.29187887 14.84025971 12.34312547 26.5267494  17.56973172 22.67033985\n",
      "  16.89222906 41.46582006 10.88187906 12.03051153 24.52904201 18.55547976\n",
      "  20.68127101 33.80731218 17.09850335 14.24745104 23.04808785 11.86757783\n",
      "  19.67159448 20.85944537 17.5849231  21.44560266 18.27315003 23.29348199\n",
      "  16.64688419 21.85820051 22.95684103 25.17814909 24.4964257  34.30897258\n",
      "  13.17482473 26.84149834 13.19428611 37.10789793 31.04537169 34.76927957\n",
      "  31.4947573  14.58404274 29.39731237 16.25593199 29.29519345 36.37816976\n",
      "  28.68495985 31.41448114]]\n"
     ]
    }
   ],
   "source": [
    "print(y_predict.T)"
   ]
  },
  {
   "cell_type": "markdown",
   "metadata": {
    "collapsed": true
   },
   "source": [
    "## 3. Newton method"
   ]
  },
  {
   "cell_type": "code",
   "execution_count": 16,
   "metadata": {
    "collapsed": true
   },
   "outputs": [],
   "source": [
    "def ExpTerm(t):\n",
    "    return np.exp(-t)\n",
    "\n",
    "def Gradient(X, y, theta, c):\n",
    "    p,n = X.shape\n",
    "    ythetax = theta.transpose().dot(X) * y #n*n \n",
    "    g1= X.dot((ExpTerm(ythetax)/(1+ ExpTerm(ythetax))*(-y)).transpose())\n",
    "    #print(g1.shape)\n",
    "    g2 = 2 * c * theta\n",
    "    g = g1 + g2\n",
    "    return g #(p+1)*1\n",
    "    \n",
    "def Hessian(X, y, theta, c):\n",
    "    p,n = X.shape\n",
    "    ythetax = (theta.T.dot(X))*y #n*n \n",
    "    sig = (ExpTerm(ythetax)/(1+ExpTerm(ythetax))**2)*X\n",
    "    h1 = sig.dot(X.transpose())\n",
    "    h2 = 2 * c * np.identity(p)\n",
    "    h = h1 + h2\n",
    "    return h.reshape((p,p)) #(p+1)*(p+1)\n",
    "\n",
    "    \n",
    "def SolveRegularizedNewtonMethod(X, y, eta, eps, c, theta0, max_iterarion):\n",
    "    p,n = X.shape \n",
    "    X0 = np.ones((1,n))\n",
    "    Xnew = np.vstack((X0,X))\n",
    "    i = 0\n",
    "    for i in range(max_iterarion):\n",
    "        g = Gradient(Xnew, y, theta0, c) #(p+1)*1\n",
    "        #print(g.shape)\n",
    "        h = Hessian(Xnew, y, theta0, c)\n",
    "        hinv =  np.linalg.inv(h) #(p+1)*(p+1)\n",
    "        #print(hinv.shape)\n",
    "        theta = theta0 - eta * np.dot(hinv, g)\n",
    "        i = i+1\n",
    "        print('Iteration: %d' %i)\n",
    "        change = np.linalg.norm(theta - theta0)\n",
    "        print(change)\n",
    "        if change < eps:\n",
    "            theta0 = theta\n",
    "            break;\n",
    "        else: \n",
    "            theta0 = theta  \n",
    "    return theta\n",
    "\n",
    "def CalculateAccuracy(X, y, theta):\n",
    "    p,n = X.shape \n",
    "    X0 = np.ones((1,n))\n",
    "    Xnew = np.vstack((X0,X))\n",
    "    xtheta = theta.T.dot(Xnew) #n*1\n",
    "    y_predicted = 1/(1+ExpTerm(xtheta)) \n",
    "    y_predicted = y_predicted >0.5 \n",
    "    #print(y_predicted)\n",
    "    accuracy = np.mean(y_predicted == y)\n",
    "    print(\"The error rate is %f\" %(1-accuracy))\n",
    "    return accuracy\n",
    "\n",
    "def CalculateConfidence(X, y, theta):\n",
    "    p,n = X.shape \n",
    "    X0 = np.ones((1,n))\n",
    "    Xnew = np.vstack((X0,X))\n",
    "    xtheta = theta.T.dot(Xnew) #n*1\n",
    "    y_predicted = 1/(1+ExpTerm(xtheta)) \n",
    "    y_predicted = y_predicted >0.5 \n",
    "    y_test = y==1\n",
    "    x_incorrect = X[:,(y_predicted != y_test).reshape(n,)]\n",
    "    y_incorrect = y[y_predicted != y_test].reshape(1,-1)\n",
    "    x_incorrect_new = np.vstack((np.ones(x_incorrect.shape[1]),x_incorrect))\n",
    "    x_incorrect_theta = theta.T.dot(x_incorrect_new) \n",
    "    prob = 1/(1+ExpTerm(x_incorrect_theta)) \n",
    "    confidence = np.abs(prob-0.5)\n",
    "    #print(confidence)\n",
    "    prob_sorted = np.take_along_axis(prob,np.argsort(confidence,axis = 1),axis =1)\n",
    "    print(prob_sorted)\n",
    "    x_incorrect_sorted = np.take_along_axis(x_incorrect,np.argsort(confidence,axis = 1),axis =1)\n",
    "    y_incorrect_sorted = np.take_along_axis(y_incorrect,np.argsort(confidence,axis = 1),axis =1)\n",
    "    return x_incorrect_sorted, y_incorrect_sorted"
   ]
  },
  {
   "cell_type": "code",
   "execution_count": 17,
   "metadata": {
    "collapsed": true
   },
   "outputs": [],
   "source": [
    "mnist_49_3000 = scipy.io.loadmat(dir+'mnist_49_3000.mat')\n",
    "x = mnist_49_3000['x']\n",
    "y = mnist_49_3000['y']\n",
    "#y[y<0] = 0\n",
    "p,n = x.shape"
   ]
  },
  {
   "cell_type": "code",
   "execution_count": 18,
   "metadata": {
    "collapsed": true
   },
   "outputs": [],
   "source": [
    "train_x = x[:,0:2000]\n",
    "test_x = x[:,2000:]\n",
    "train_y = y[:,0:2000]\n",
    "test_y = y[:,2000:]"
   ]
  },
  {
   "cell_type": "code",
   "execution_count": 19,
   "metadata": {},
   "outputs": [
    {
     "data": {
      "image/png": "[encoded data removed]",
      "text/plain": [
       "<matplotlib.figure.Figure at 0x18209df7f0>"
      ]
     },
     "metadata": {},
     "output_type": "display_data"
    }
   ],
   "source": [
    "i = 0\n",
    "plt.imshow(np.reshape(x[:,i], (int(np.sqrt(p)), int(np.sqrt(p)))))\n",
    "plt.show()"
   ]
  },
  {
   "cell_type": "code",
   "execution_count": 20,
   "metadata": {},
   "outputs": [
    {
     "name": "stdout",
     "output_type": "stream",
     "text": [
      "Iteration: 1\n",
      "1.803761906945822\n",
      "Iteration: 2\n",
      "0.9051834519010579\n",
      "Iteration: 3\n",
      "0.6503886272058389\n",
      "Iteration: 4\n",
      "0.24714121992609436\n",
      "Iteration: 5\n",
      "0.026775398560232026\n",
      "Iteration: 6\n",
      "0.00030279348585199203\n",
      "Iteration: 7\n",
      "4.349048504533124e-08\n"
     ]
    }
   ],
   "source": [
    "eta = 1\n",
    "eps = 10**(-6)\n",
    "c = 10\n",
    "max_iterarion = 50 \n",
    "theta0 = np.zeros((x.shape[0]+1,1))\n",
    "theta = SolveRegularizedNewtonMethod(train_x, train_y, eta, eps, c, theta0, max_iterarion)"
   ]
  },
  {
   "cell_type": "code",
   "execution_count": 21,
   "metadata": {},
   "outputs": [
    {
     "data": {
      "text/plain": [
       "(785, 1)"
      ]
     },
     "execution_count": 21,
     "metadata": {},
     "output_type": "execute_result"
    }
   ],
   "source": [
    "theta.shape"
   ]
  },
  {
   "cell_type": "code",
   "execution_count": 22,
   "metadata": {},
   "outputs": [
    {
     "name": "stdout",
     "output_type": "stream",
     "text": [
      "The error rate is 0.048000\n"
     ]
    }
   ],
   "source": [
    "accuracy = CalculateAccuracy(test_x, test_y==1 , theta)"
   ]
  },
  {
   "cell_type": "code",
   "execution_count": 23,
   "metadata": {},
   "outputs": [
    {
     "name": "stdout",
     "output_type": "stream",
     "text": [
      "[[0.4937767  0.50935997 0.48359895 0.52006858 0.52404661 0.45603301\n",
      "  0.44714906 0.55485895 0.56079569 0.43726036 0.43638443 0.4349028\n",
      "  0.58620645 0.41153568 0.59358413 0.59720446 0.40230088 0.38585491\n",
      "  0.37956154 0.37275888 0.62806395 0.62864639 0.35301513 0.65217843\n",
      "  0.66090595 0.33654197 0.67029023 0.30976266 0.28428003 0.73517472\n",
      "  0.26420625 0.24087757 0.76410206 0.22807223 0.22659318 0.21949731\n",
      "  0.21741511 0.20575767 0.19856135 0.17546085 0.83186957 0.15455764\n",
      "  0.1460306  0.12480475 0.90411236 0.09054923 0.07441565 0.05496435]]\n"
     ]
    }
   ],
   "source": [
    "x_incorrect_sorted, y_incorrect_sorted = CalculateConfidence(test_x, test_y, theta)"
   ]
  },
  {
   "cell_type": "code",
   "execution_count": 24,
   "metadata": {},
   "outputs": [
    {
     "data": {
      "image/png": "[encoded data removed]",
      "text/plain": [
       "<matplotlib.figure.Figure at 0x10cc31a20>"
      ]
     },
     "execution_count": 24,
     "metadata": {},
     "output_type": "execute_result"
    }
   ],
   "source": [
    "fig, axes = plt.subplots(4,5)\n",
    "k = -1\n",
    "for i in range(0,4):\n",
    "    for j in range(0,5):\n",
    "        axes[i,j].imshow(np.reshape(x_incorrect_sorted[:,k],(int(np.sqrt(p)),int(np.sqrt(p)))))\n",
    "        axes[i,j].set_title(\"9\" if y_incorrect_sorted[:,k] == 1 else \"4\")\n",
    "        k = k-1\n",
    "fig"
   ]
  },
  {
   "cell_type": "code",
   "execution_count": null,
   "metadata": {
    "collapsed": true
   },
   "outputs": [],
   "source": []
  }
 ],
 "metadata": {
  "kernelspec": {
   "display_name": "Python 3",
   "language": "python",
   "name": "python3"
  },
  "language_info": {
   "codemirror_mode": {
    "name": "ipython",
    "version": 3
   },
   "file_extension": ".py",
   "mimetype": "text/x-python",
   "name": "python",
   "nbconvert_exporter": "python",
   "pygments_lexer": "ipython3",
   "version": "3.6.9"
  }
 },
 "nbformat": 4,
 "nbformat_minor": 2
}
